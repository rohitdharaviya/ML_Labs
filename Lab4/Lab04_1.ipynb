{
 "cells": [
  {
   "cell_type": "markdown",
   "id": "872dc90c",
   "metadata": {},
   "source": [
    "## Linear regression model from scratch"
   ]
  },
  {
   "cell_type": "code",
   "execution_count": 42,
   "id": "fef42074",
   "metadata": {},
   "outputs": [],
   "source": [
    "import numpy as np\n",
    "import torch"
   ]
  },
  {
   "cell_type": "code",
   "execution_count": 43,
   "id": "46999afc",
   "metadata": {},
   "outputs": [],
   "source": [
    "inputs = np.array([[73, 67, 43],\n",
    "[91, 88, 64],\n",
    "[87, 134, 58],\n",
    "[102, 43, 37],\n",
    "[69, 96, 70]], dtype='float32')"
   ]
  },
  {
   "cell_type": "code",
   "execution_count": 44,
   "id": "4cc120e3",
   "metadata": {},
   "outputs": [],
   "source": [
    "targets = np.array([[56],\n",
    "[81],\n",
    "[119],\n",
    "[22],\n",
    "[103]], dtype='float32')"
   ]
  },
  {
   "cell_type": "code",
   "execution_count": 45,
   "id": "6e88e74c",
   "metadata": {},
   "outputs": [],
   "source": [
    "inputs = torch.from_numpy(inputs)\n",
    "targets = torch.from_numpy(targets)"
   ]
  },
  {
   "cell_type": "code",
   "execution_count": 46,
   "id": "412b6687",
   "metadata": {},
   "outputs": [],
   "source": [
    "weight = torch.randn(2, 3, requires_grad=True)\n",
    "bias = torch.randn(2, requires_grad=True)"
   ]
  },
  {
   "cell_type": "code",
   "execution_count": 47,
   "id": "a82d671a",
   "metadata": {},
   "outputs": [
    {
     "data": {
      "text/plain": [
       "tensor([[ -67.3654,  107.2294],\n",
       "        [ -78.8072,  134.0055],\n",
       "        [ -28.6790,  172.0776],\n",
       "        [-144.1005,  114.3143],\n",
       "        [ -30.0668,  119.3574]], grad_fn=<AddBackward0>)"
      ]
     },
     "execution_count": 47,
     "metadata": {},
     "output_type": "execute_result"
    }
   ],
   "source": [
    "inputs @ weight.t() + bias"
   ]
  },
  {
   "cell_type": "code",
   "execution_count": 48,
   "id": "22751121",
   "metadata": {},
   "outputs": [],
   "source": [
    "def model(inputs):\n",
    "    return inputs @ weight.t() + bias"
   ]
  },
  {
   "cell_type": "code",
   "execution_count": 49,
   "id": "fc1b2fc6",
   "metadata": {},
   "outputs": [
    {
     "name": "stdout",
     "output_type": "stream",
     "text": [
      "tensor([[ -67.3654,  107.2294],\n",
      "        [ -78.8072,  134.0055],\n",
      "        [ -28.6790,  172.0776],\n",
      "        [-144.1005,  114.3143],\n",
      "        [ -30.0668,  119.3574]], grad_fn=<AddBackward0>)\n"
     ]
    }
   ],
   "source": [
    "prediction = model(inputs)\n",
    "print(prediction)"
   ]
  },
  {
   "cell_type": "markdown",
   "id": "470562e6",
   "metadata": {},
   "source": [
    "## Loss function"
   ]
  },
  {
   "cell_type": "code",
   "execution_count": 50,
   "id": "ef2c8b5b",
   "metadata": {},
   "outputs": [
    {
     "data": {
      "text/plain": [
       "tensor(12490.3350, grad_fn=<DivBackward0>)"
      ]
     },
     "execution_count": 50,
     "metadata": {},
     "output_type": "execute_result"
    }
   ],
   "source": [
    "diff0 = prediction - targets\n",
    "torch.sum(diff0 * diff0) / diff0.numel()"
   ]
  },
  {
   "cell_type": "code",
   "execution_count": 51,
   "id": "92c6f415",
   "metadata": {},
   "outputs": [],
   "source": [
    "def mse(t1, t2):\n",
    "    diff = t1 - t2\n",
    "    return torch.sum(diff * diff) / diff.numel()"
   ]
  },
  {
   "cell_type": "code",
   "execution_count": 52,
   "id": "5860011d",
   "metadata": {},
   "outputs": [
    {
     "name": "stdout",
     "output_type": "stream",
     "text": [
      "tensor(12490.3350, grad_fn=<DivBackward0>)\n"
     ]
    }
   ],
   "source": [
    "loss = mse(prediction, targets)\n",
    "print(loss)"
   ]
  },
  {
   "cell_type": "markdown",
   "id": "047f2324",
   "metadata": {},
   "source": [
    "## Compute gradient"
   ]
  },
  {
   "cell_type": "code",
   "execution_count": 53,
   "id": "d2a9c9af",
   "metadata": {},
   "outputs": [
    {
     "name": "stdout",
     "output_type": "stream",
     "text": [
      "tensor([[-12504.0117, -12406.8467,  -7911.6299],\n",
      "        [  4745.1426,   4149.8154,   2646.8726]])\n",
      "tensor([-146.0038,   53.1968])\n"
     ]
    }
   ],
   "source": [
    "loss.backward()\n",
    "print(weight.grad)\n",
    "print(bias.grad)"
   ]
  },
  {
   "cell_type": "markdown",
   "id": "f55aeed1",
   "metadata": {},
   "source": [
    "## Train the model using gradient descent"
   ]
  },
  {
   "cell_type": "code",
   "execution_count": 54,
   "id": "1ac8f904",
   "metadata": {},
   "outputs": [],
   "source": [
    "with torch.no_grad():\n",
    "    weight -= weight.grad * 1e-5\n",
    "    bias -= bias.grad * 1e-5\n",
    "    weight.grad.zero_()\n",
    "    bias.grad.zero_()"
   ]
  },
  {
   "cell_type": "code",
   "execution_count": 55,
   "id": "a1768e88",
   "metadata": {},
   "outputs": [
    {
     "name": "stdout",
     "output_type": "stream",
     "text": [
      "tensor(8668.8906, grad_fn=<DivBackward0>)\n"
     ]
    }
   ],
   "source": [
    "prediction = model(inputs)\n",
    "loss = mse(prediction, targets)\n",
    "print(loss)"
   ]
  },
  {
   "cell_type": "code",
   "execution_count": 56,
   "id": "f5371636",
   "metadata": {},
   "outputs": [],
   "source": [
    "for i in range(100):\n",
    "    prediction = model(inputs)\n",
    "    loss = mse(prediction, targets)\n",
    "    loss.backward()\n",
    "    with torch.no_grad():\n",
    "        weight -= weight.grad * 1e-5\n",
    "        bias -= bias.grad * 1e-5\n",
    "        weight.grad.zero_()\n",
    "        bias.grad.zero_()"
   ]
  },
  {
   "cell_type": "code",
   "execution_count": 57,
   "id": "e3db996c",
   "metadata": {},
   "outputs": [
    {
     "name": "stdout",
     "output_type": "stream",
     "text": [
      "tensor(262.5763, grad_fn=<DivBackward0>)\n"
     ]
    }
   ],
   "source": [
    "prediction = model(inputs)\n",
    "loss = mse(prediction, targets)\n",
    "print(loss)"
   ]
  },
  {
   "cell_type": "code",
   "execution_count": 58,
   "id": "995cb9cd",
   "metadata": {},
   "outputs": [
    {
     "data": {
      "text/plain": [
       "tensor([[ 52.8134,  62.3363],\n",
       "        [ 77.0638,  77.9776],\n",
       "        [137.3870, 119.9977],\n",
       "        [ -4.6456,  50.5734],\n",
       "        [108.0294,  77.3089]], grad_fn=<AddBackward0>)"
      ]
     },
     "execution_count": 58,
     "metadata": {},
     "output_type": "execute_result"
    }
   ],
   "source": [
    "prediction"
   ]
  },
  {
   "cell_type": "code",
   "execution_count": 59,
   "id": "4228680e",
   "metadata": {},
   "outputs": [
    {
     "data": {
      "text/plain": [
       "tensor([[ 56.],\n",
       "        [ 81.],\n",
       "        [119.],\n",
       "        [ 22.],\n",
       "        [103.]])"
      ]
     },
     "execution_count": 59,
     "metadata": {},
     "output_type": "execute_result"
    }
   ],
   "source": [
    "targets"
   ]
  }
 ],
 "metadata": {
  "kernelspec": {
   "display_name": "Python 3 (ipykernel)",
   "language": "python",
   "name": "python3"
  },
  "language_info": {
   "codemirror_mode": {
    "name": "ipython",
    "version": 3
   },
   "file_extension": ".py",
   "mimetype": "text/x-python",
   "name": "python",
   "nbconvert_exporter": "python",
   "pygments_lexer": "ipython3",
   "version": "3.9.7"
  }
 },
 "nbformat": 4,
 "nbformat_minor": 5
}
