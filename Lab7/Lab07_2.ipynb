{
  "nbformat": 4,
  "nbformat_minor": 0,
  "metadata": {
    "colab": {
      "name": "Lab07_2.ipynb",
      "provenance": []
    },
    "kernelspec": {
      "name": "python3",
      "display_name": "Python 3"
    },
    "language_info": {
      "name": "python"
    }
  },
  "cells": [
    {
      "cell_type": "code",
      "execution_count": 1,
      "metadata": {
        "id": "oKrYhswbmnWN"
      },
      "outputs": [],
      "source": [
        "from __future__ import absolute_import, division, print_function\n",
        "import tensorflow as tf\n",
        "import numpy as np"
      ]
    },
    {
      "cell_type": "code",
      "source": [
        "num_classes = 10 # Digits\n",
        "num_features = 784 # 28*28\n",
        "\n",
        "# Parameters for Train the Model\n",
        "learning_rate = 0.01\n",
        "training_steps = 1000 \n",
        "batch_size = 256\n",
        "display_step = 50"
      ],
      "metadata": {
        "id": "f2Zk-euXmzzJ"
      },
      "execution_count": 2,
      "outputs": []
    },
    {
      "cell_type": "code",
      "source": [
        "from tensorflow.keras.datasets import mnist\n",
        "\n",
        "(x_train, y_train), (x_test, y_test) = mnist.load_data()\n",
        "x_train, x_test = np.array(x_train, np.float32), np.array(x_test, np.float32)\n",
        "\n",
        "x_train, x_test = x_train.reshape([-1, num_features]), x_test.reshape([-1, num_features])\n",
        "x_train, x_test = x_train / 255., x_test / 255."
      ],
      "metadata": {
        "id": "RB60lMqFmz2D"
      },
      "execution_count": 3,
      "outputs": []
    },
    {
      "cell_type": "code",
      "source": [
        "train_data=tf.data.Dataset.from_tensor_slices((x_train,y_train))\n",
        "\n",
        "train_data=train_data.repeat().shuffle(5000).batch(batch_size).prefetch(1)"
      ],
      "metadata": {
        "id": "8UG4dpObmz56"
      },
      "execution_count": 4,
      "outputs": []
    },
    {
      "cell_type": "code",
      "source": [
        "W = tf.Variable(tf.ones([num_features, num_classes]), name=\"weight\")\n",
        "b = tf.Variable(tf.zeros([num_classes]), name=\"bias\")"
      ],
      "metadata": {
        "id": "SFxzkk_7mz9P"
      },
      "execution_count": 5,
      "outputs": []
    },
    {
      "cell_type": "code",
      "source": [
        "def logistic_regression(x):\n",
        "    return tf.nn.softmax(tf.matmul(x, W) + b)\n",
        "\n",
        "def cross_entropy(y_pred, y_true):\n",
        "    y_true = tf.one_hot(y_true, depth=num_classes)\n",
        "    y_pred = tf.clip_by_value(y_pred, 1e-9, 1.)\n",
        "    return tf.reduce_mean(-tf.reduce_sum(y_true * tf.math.log(y_pred)))\n",
        "\n",
        "def accuracy(y_pred, y_true):\n",
        "  correct_prediction = tf.equal(tf.argmax(y_pred, 1), tf.cast(y_true, tf.int64))\n",
        "  return tf.reduce_mean(tf.cast(correct_prediction, tf.float32))\n",
        "\n",
        "optimizer = tf.optimizers.SGD(learning_rate)\n",
        "\n",
        "def run_optimization(x, y):\n",
        "    with tf.GradientTape() as g:\n",
        "        pred = logistic_regression(x)\n",
        "        loss = cross_entropy(pred, y)\n",
        "    gradients = g.gradient(loss, [W, b])\n",
        "    optimizer.apply_gradients(zip(gradients, [W, b]))"
      ],
      "metadata": {
        "id": "pDkYFkJSm0CS"
      },
      "execution_count": 6,
      "outputs": []
    },
    {
      "cell_type": "code",
      "source": [
        "for step, (batch_x, batch_y) in enumerate(train_data.take(training_steps), 1):\n",
        "    run_optimization(batch_x, batch_y)\n",
        "    if step % display_step == 0:\n",
        "        pred = logistic_regression(batch_x)\n",
        "        loss = cross_entropy(pred, batch_y)\n",
        "        acc = accuracy(pred, batch_y)\n",
        "        print(\"step: %i, loss: %f, accuracy: %f\" % (step, loss, acc))"
      ],
      "metadata": {
        "colab": {
          "base_uri": "https://localhost:8080/"
        },
        "id": "M1885iTrqjCR",
        "outputId": "81af0a99-4850-4156-8242-03af22f25b91"
      },
      "execution_count": 7,
      "outputs": [
        {
          "output_type": "stream",
          "name": "stdout",
          "text": [
            "step: 50, loss: 1144.456055, accuracy: 0.703125\n",
            "step: 100, loss: 84.144630, accuracy: 0.925781\n",
            "step: 150, loss: 96.152420, accuracy: 0.878906\n",
            "step: 200, loss: 112.013008, accuracy: 0.894531\n",
            "step: 250, loss: 284.094635, accuracy: 0.808594\n",
            "step: 300, loss: 101.271980, accuracy: 0.878906\n",
            "step: 350, loss: 79.172226, accuracy: 0.917969\n",
            "step: 400, loss: 96.272499, accuracy: 0.890625\n",
            "step: 450, loss: 43.292046, accuracy: 0.957031\n",
            "step: 500, loss: 147.700500, accuracy: 0.851562\n",
            "step: 550, loss: 87.479416, accuracy: 0.914062\n",
            "step: 600, loss: 66.650803, accuracy: 0.933594\n",
            "step: 650, loss: 67.545670, accuracy: 0.933594\n",
            "step: 700, loss: 55.077805, accuracy: 0.937500\n",
            "step: 750, loss: 99.826836, accuracy: 0.894531\n",
            "step: 800, loss: 88.446930, accuracy: 0.910156\n",
            "step: 850, loss: 60.933506, accuracy: 0.941406\n",
            "step: 900, loss: 91.890671, accuracy: 0.886719\n",
            "step: 950, loss: 45.065918, accuracy: 0.964844\n",
            "step: 1000, loss: 58.332714, accuracy: 0.925781\n"
          ]
        }
      ]
    },
    {
      "cell_type": "code",
      "source": [
        "pred = logistic_regression(x_test)\n",
        "print(\"Test Accuracy: %f\" % accuracy(pred, y_test))"
      ],
      "metadata": {
        "colab": {
          "base_uri": "https://localhost:8080/"
        },
        "id": "DNnOB3vyqoEH",
        "outputId": "c21d6854-e761-4eca-c05c-e9f48cd44208"
      },
      "execution_count": 8,
      "outputs": [
        {
          "output_type": "stream",
          "name": "stdout",
          "text": [
            "Test Accuracy: 0.911100\n"
          ]
        }
      ]
    }
  ]
}