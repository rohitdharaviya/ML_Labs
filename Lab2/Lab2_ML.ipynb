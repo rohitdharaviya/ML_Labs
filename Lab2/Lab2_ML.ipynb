{
  "nbformat": 4,
  "nbformat_minor": 0,
  "metadata": {
    "colab": {
      "name": "Lab2_ML_1.ipynb",
      "provenance": [],
      "collapsed_sections": []
    },
    "kernelspec": {
      "name": "python3",
      "display_name": "Python 3"
    },
    "language_info": {
      "name": "python"
    }
  },
  "cells": [
    {
      "cell_type": "markdown",
      "source": [
        "#HandlingMissingValues\n"
      ],
      "metadata": {
        "id": "sep_NAiWd1vg"
      }
    },
    {
      "cell_type": "code",
      "execution_count": 1,
      "metadata": {
        "id": "zyWQvXq2YJgT"
      },
      "outputs": [],
      "source": [
        "import numpy as np \n",
        "import pandas as pd\n",
        "from sklearn.preprocessing import LabelEncoder,OneHotEncoder"
      ]
    },
    {
      "cell_type": "code",
      "source": [
        "from google.colab import drive\n",
        "drive.mount('/content/drive')\n"
      ],
      "metadata": {
        "colab": {
          "base_uri": "https://localhost:8080/"
        },
        "id": "YKHsgeSoYNu1",
        "outputId": "d8ba7018-c39c-4972-92a2-155aba28dcfa"
      },
      "execution_count": 2,
      "outputs": [
        {
          "output_type": "stream",
          "name": "stdout",
          "text": [
            "Mounted at /content/drive\n"
          ]
        }
      ]
    },
    {
      "cell_type": "code",
      "source": [
        "datasets=pd.read_csv('/content/drive/MyDrive/Exercise-CarData.csv - Exercise-CarData.csv.csv')"
      ],
      "metadata": {
        "id": "rwz-Sju9YOso"
      },
      "execution_count": 3,
      "outputs": []
    },
    {
      "cell_type": "code",
      "source": [
        "X = datasets.iloc[:, :-1].values   \n",
        "Y = datasets.iloc[:, -1].values \n",
        "\n",
        "print(\"\\n\\nInput : \\n\", X) \n",
        "print(\"\\n\\nOutput: \\n\", Y) "
      ],
      "metadata": {
        "colab": {
          "base_uri": "https://localhost:8080/"
        },
        "id": "odBTEJ37YSy3",
        "outputId": "3fa39d76-92d7-44a6-e7ef-b2a8585de069"
      },
      "execution_count": 4,
      "outputs": [
        {
          "output_type": "stream",
          "name": "stdout",
          "text": [
            "\n",
            "\n",
            "Input : \n",
            " [[0 13500 23.0 ... 0 2000 'three']\n",
            " [1 13750 23.0 ... 0 2000 '3']\n",
            " [2 13950 24.0 ... 0 2000 '3']\n",
            " ...\n",
            " [1433 8500 nan ... 0 1300 '3']\n",
            " [1434 7250 70.0 ... 0 1300 '3']\n",
            " [1435 6950 76.0 ... 0 1600 '5']]\n",
            "\n",
            "\n",
            "Output: \n",
            " [1165 1165 1165 ... 1015 1015 1114]\n"
          ]
        }
      ]
    },
    {
      "cell_type": "code",
      "source": [
        "datasets.dropna(axis=0,how='any',inplace=True)\n",
        "print(\"\\nNew Data :\",datasets)"
      ],
      "metadata": {
        "colab": {
          "base_uri": "https://localhost:8080/"
        },
        "id": "8PSyFLomYU8m",
        "outputId": "4d6ce467-cb80-4543-a4fc-0fb68c3d5e4b"
      },
      "execution_count": 5,
      "outputs": [
        {
          "output_type": "stream",
          "name": "stdout",
          "text": [
            "\n",
            "New Data :       Unnamed: 0  Price   Age     KM  ... Automatic    CC  Doors  Weight\n",
            "0              0  13500  23.0  46986  ...         0  2000  three    1165\n",
            "1              1  13750  23.0  72937  ...         0  2000      3    1165\n",
            "3              3  14950  26.0  48000  ...         0  2000      3    1165\n",
            "4              4  13750  30.0  38500  ...         0  2000      3    1170\n",
            "5              5  12950  32.0  61000  ...         0  2000      3    1170\n",
            "...          ...    ...   ...    ...  ...       ...   ...    ...     ...\n",
            "1425        1425   7950  80.0     ??  ...         0  1300      4    1000\n",
            "1429        1429   8950  78.0  24000  ...         1  1300      5    1065\n",
            "1430        1430   8450  80.0  23000  ...         0  1300      3    1015\n",
            "1432        1432  10845  72.0     ??  ...         0  1300      3    1015\n",
            "1435        1435   6950  76.0      1  ...         0  1600      5    1114\n",
            "\n",
            "[1111 rows x 11 columns]\n"
          ]
        }
      ]
    },
    {
      "cell_type": "code",
      "source": [
        "datasets.dropna(axis=1,how='all',inplace=True)\n",
        "print(\"\\nNew Data :\",datasets)\n",
        "# removing row which has null values"
      ],
      "metadata": {
        "colab": {
          "base_uri": "https://localhost:8080/"
        },
        "id": "d0uMgwR_YXhk",
        "outputId": "18cbf3d7-e9d2-4145-89ec-db7e3de4eafb"
      },
      "execution_count": 6,
      "outputs": [
        {
          "output_type": "stream",
          "name": "stdout",
          "text": [
            "\n",
            "New Data :       Unnamed: 0  Price   Age     KM  ... Automatic    CC  Doors  Weight\n",
            "0              0  13500  23.0  46986  ...         0  2000  three    1165\n",
            "1              1  13750  23.0  72937  ...         0  2000      3    1165\n",
            "3              3  14950  26.0  48000  ...         0  2000      3    1165\n",
            "4              4  13750  30.0  38500  ...         0  2000      3    1170\n",
            "5              5  12950  32.0  61000  ...         0  2000      3    1170\n",
            "...          ...    ...   ...    ...  ...       ...   ...    ...     ...\n",
            "1425        1425   7950  80.0     ??  ...         0  1300      4    1000\n",
            "1429        1429   8950  78.0  24000  ...         1  1300      5    1065\n",
            "1430        1430   8450  80.0  23000  ...         0  1300      3    1015\n",
            "1432        1432  10845  72.0     ??  ...         0  1300      3    1015\n",
            "1435        1435   6950  76.0      1  ...         0  1600      5    1114\n",
            "\n",
            "[1111 rows x 11 columns]\n"
          ]
        }
      ]
    },
    {
      "cell_type": "markdown",
      "source": [
        "#DataTranformation"
      ],
      "metadata": {
        "id": "Hc8JffChde-Y"
      }
    },
    {
      "cell_type": "code",
      "source": [
        "from sklearn.preprocessing import MinMaxScaler, StandardScaler"
      ],
      "metadata": {
        "id": "39gemz8nYcIo"
      },
      "execution_count": 7,
      "outputs": []
    },
    {
      "cell_type": "code",
      "source": [
        "X = datasets.iloc[:, :-1].values \n",
        "\n",
        "Y = datasets.iloc[:, -1].values \n",
        "\n",
        "print(\"\\n\\nInput : \\n\", X) \n",
        "print(\"\\n\\nOutput: \\n\", Y)"
      ],
      "metadata": {
        "colab": {
          "base_uri": "https://localhost:8080/"
        },
        "id": "s8WzJBbWYe1G",
        "outputId": "40038537-1a73-4eb1-94c1-965176c42cc2"
      },
      "execution_count": 8,
      "outputs": [
        {
          "output_type": "stream",
          "name": "stdout",
          "text": [
            "\n",
            "\n",
            "Input : \n",
            " [[0 13500 23.0 ... 0 2000 'three']\n",
            " [1 13750 23.0 ... 0 2000 '3']\n",
            " [3 14950 26.0 ... 0 2000 '3']\n",
            " ...\n",
            " [1430 8450 80.0 ... 0 1300 '3']\n",
            " [1432 10845 72.0 ... 0 1300 '3']\n",
            " [1435 6950 76.0 ... 0 1600 '5']]\n",
            "\n",
            "\n",
            "Output: \n",
            " [1165 1165 1165 ... 1015 1015 1114]\n"
          ]
        }
      ]
    },
    {
      "cell_type": "code",
      "source": [
        "datasets=datasets.replace(to_replace=\"??\",value=50000)\n",
        "print(datasets)\n",
        "datasets=datasets.replace(to_replace=\"three\",value=3)\n",
        "print(datasets)"
      ],
      "metadata": {
        "colab": {
          "base_uri": "https://localhost:8080/"
        },
        "id": "nqJ0iJyXYhaX",
        "outputId": "3986d090-5dbf-45dd-b311-938a1cc865ad"
      },
      "execution_count": 9,
      "outputs": [
        {
          "output_type": "stream",
          "name": "stdout",
          "text": [
            "      Unnamed: 0  Price   Age     KM  ... Automatic    CC  Doors  Weight\n",
            "0              0  13500  23.0  46986  ...         0  2000  three    1165\n",
            "1              1  13750  23.0  72937  ...         0  2000      3    1165\n",
            "3              3  14950  26.0  48000  ...         0  2000      3    1165\n",
            "4              4  13750  30.0  38500  ...         0  2000      3    1170\n",
            "5              5  12950  32.0  61000  ...         0  2000      3    1170\n",
            "...          ...    ...   ...    ...  ...       ...   ...    ...     ...\n",
            "1425        1425   7950  80.0  50000  ...         0  1300      4    1000\n",
            "1429        1429   8950  78.0  24000  ...         1  1300      5    1065\n",
            "1430        1430   8450  80.0  23000  ...         0  1300      3    1015\n",
            "1432        1432  10845  72.0  50000  ...         0  1300      3    1015\n",
            "1435        1435   6950  76.0      1  ...         0  1600      5    1114\n",
            "\n",
            "[1111 rows x 11 columns]\n",
            "      Unnamed: 0  Price   Age     KM  ... Automatic    CC  Doors  Weight\n",
            "0              0  13500  23.0  46986  ...         0  2000      3    1165\n",
            "1              1  13750  23.0  72937  ...         0  2000      3    1165\n",
            "3              3  14950  26.0  48000  ...         0  2000      3    1165\n",
            "4              4  13750  30.0  38500  ...         0  2000      3    1170\n",
            "5              5  12950  32.0  61000  ...         0  2000      3    1170\n",
            "...          ...    ...   ...    ...  ...       ...   ...    ...     ...\n",
            "1425        1425   7950  80.0  50000  ...         0  1300      4    1000\n",
            "1429        1429   8950  78.0  24000  ...         1  1300      5    1065\n",
            "1430        1430   8450  80.0  23000  ...         0  1300      3    1015\n",
            "1432        1432  10845  72.0  50000  ...         0  1300      3    1015\n",
            "1435        1435   6950  76.0      1  ...         0  1600      5    1114\n",
            "\n",
            "[1111 rows x 11 columns]\n"
          ]
        }
      ]
    },
    {
      "cell_type": "code",
      "source": [
        "X_new = datasets.iloc[:,1:4].values\n",
        "print(\"\\n\\nX for transformation : \\n\", X_new)"
      ],
      "metadata": {
        "colab": {
          "base_uri": "https://localhost:8080/"
        },
        "id": "ZsoCoj1WYkB6",
        "outputId": "a70c3dc5-97f0-4475-e4ea-48ea0a0e8f72"
      },
      "execution_count": 10,
      "outputs": [
        {
          "output_type": "stream",
          "name": "stdout",
          "text": [
            "\n",
            "\n",
            "X for transformation : \n",
            " [[13500 23.0 '46986']\n",
            " [13750 23.0 '72937']\n",
            " [14950 26.0 '48000']\n",
            " ...\n",
            " [8450 80.0 '23000']\n",
            " [10845 72.0 50000]\n",
            " [6950 76.0 '1']]\n"
          ]
        }
      ]
    },
    {
      "cell_type": "code",
      "source": [
        "scaler = MinMaxScaler()\n",
        "X_scaled = scaler.fit_transform(X_new)\n",
        "print(\"\\n\\nScaled X : \\n\", X_scaled)"
      ],
      "metadata": {
        "colab": {
          "base_uri": "https://localhost:8080/"
        },
        "id": "EkE0K0JvYmw4",
        "outputId": "89990bd6-6853-4e9b-adc4-9a2e537ef56d"
      },
      "execution_count": 11,
      "outputs": [
        {
          "output_type": "stream",
          "name": "stdout",
          "text": [
            "\n",
            "\n",
            "Scaled X : \n",
            " [[0.33983287 0.27848101 0.19335471]\n",
            " [0.34911792 0.27848101 0.30014938]\n",
            " [0.39368617 0.3164557  0.19752756]\n",
            " ...\n",
            " [0.15227484 1.         0.09464648]\n",
            " [0.24122563 0.89873418 0.20575805]\n",
            " [0.09656453 0.94936709 0.        ]]\n"
          ]
        }
      ]
    },
    {
      "cell_type": "code",
      "source": [
        "std = StandardScaler()\n",
        "X_std = std.fit_transform(X_new)\n",
        "print(\"\\n\\nStandardized X : \\n\", X_std)"
      ],
      "metadata": {
        "colab": {
          "base_uri": "https://localhost:8080/"
        },
        "id": "dOqoUL0_YpHT",
        "outputId": "d61b1d3e-3541-4f4e-bf79-da85d6f10365"
      },
      "execution_count": 12,
      "outputs": [
        {
          "output_type": "stream",
          "name": "stdout",
          "text": [
            "\n",
            "\n",
            "Standardized X : \n",
            " [[ 0.73687953 -1.73138817 -0.58258384]\n",
            " [ 0.80448309 -1.73138817  0.10178722]\n",
            " [ 1.12898017 -1.57198932 -0.55584297]\n",
            " ...\n",
            " [-0.62871237  1.29719009 -1.21513458]\n",
            " [ 0.01892973  0.87212647 -0.50309964]\n",
            " [-1.03433373  1.08465828 -1.82165648]]\n"
          ]
        }
      ]
    },
    {
      "cell_type": "markdown",
      "source": [
        "#HandlingCategoricalData"
      ],
      "metadata": {
        "id": "--F6piZndkxp"
      }
    },
    {
      "cell_type": "code",
      "source": [
        "from sklearn.preprocessing import LabelEncoder,OneHotEncoder"
      ],
      "metadata": {
        "id": "sFspWzaKYroQ"
      },
      "execution_count": 13,
      "outputs": []
    },
    {
      "cell_type": "code",
      "source": [
        "print(\"\\nData :\\n\",datasets)\n",
        "print(\"\\nData statistics\\n\",datasets.describe())"
      ],
      "metadata": {
        "colab": {
          "base_uri": "https://localhost:8080/"
        },
        "id": "vkpXxNe1YuIb",
        "outputId": "63a1d9d4-8e6b-4906-ab43-346beabc8f60"
      },
      "execution_count": 14,
      "outputs": [
        {
          "output_type": "stream",
          "name": "stdout",
          "text": [
            "\n",
            "Data :\n",
            "       Unnamed: 0  Price   Age     KM  ... Automatic    CC  Doors  Weight\n",
            "0              0  13500  23.0  46986  ...         0  2000      3    1165\n",
            "1              1  13750  23.0  72937  ...         0  2000      3    1165\n",
            "3              3  14950  26.0  48000  ...         0  2000      3    1165\n",
            "4              4  13750  30.0  38500  ...         0  2000      3    1170\n",
            "5              5  12950  32.0  61000  ...         0  2000      3    1170\n",
            "...          ...    ...   ...    ...  ...       ...   ...    ...     ...\n",
            "1425        1425   7950  80.0  50000  ...         0  1300      4    1000\n",
            "1429        1429   8950  78.0  24000  ...         1  1300      5    1065\n",
            "1430        1430   8450  80.0  23000  ...         0  1300      3    1015\n",
            "1432        1432  10845  72.0  50000  ...         0  1300      3    1015\n",
            "1435        1435   6950  76.0      1  ...         0  1600      5    1114\n",
            "\n",
            "[1111 rows x 11 columns]\n",
            "\n",
            "Data statistics\n",
            "         Unnamed: 0         Price  ...           CC       Weight\n",
            "count  1111.000000   1111.000000  ...  1111.000000  1111.000000\n",
            "mean    707.868587  10774.997300  ...  1569.463546  1073.870387\n",
            "std     414.023750   3699.695538  ...   185.935691    52.610513\n",
            "min       0.000000   4350.000000  ...  1300.000000  1000.000000\n",
            "25%     347.500000   8450.000000  ...  1400.000000  1045.000000\n",
            "50%     703.000000   9900.000000  ...  1600.000000  1070.000000\n",
            "75%    1069.500000  11950.000000  ...  1600.000000  1090.000000\n",
            "max    1435.000000  31275.000000  ...  2000.000000  1615.000000\n",
            "\n",
            "[8 rows x 7 columns]\n"
          ]
        }
      ]
    },
    {
      "cell_type": "code",
      "source": [
        "X = datasets.iloc[:, :-1].values \n",
        "  \n",
        "# Only last column  \n",
        "Y = datasets.iloc[:, -1].values \n",
        "\n",
        "print(\"\\n\\nInput : \\n\", X) \n",
        "print(\"\\n\\nOutput: \\n\", Y)"
      ],
      "metadata": {
        "colab": {
          "base_uri": "https://localhost:8080/"
        },
        "id": "dczVY4tkYwlr",
        "outputId": "cd764a8c-2556-4ac9-fab5-07df55a66182"
      },
      "execution_count": 15,
      "outputs": [
        {
          "output_type": "stream",
          "name": "stdout",
          "text": [
            "\n",
            "\n",
            "Input : \n",
            " [[0 13500 23.0 ... 0 2000 3]\n",
            " [1 13750 23.0 ... 0 2000 '3']\n",
            " [3 14950 26.0 ... 0 2000 '3']\n",
            " ...\n",
            " [1430 8450 80.0 ... 0 1300 '3']\n",
            " [1432 10845 72.0 ... 0 1300 '3']\n",
            " [1435 6950 76.0 ... 0 1600 '5']]\n",
            "\n",
            "\n",
            "Output: \n",
            " [1165 1165 1165 ... 1015 1015 1114]\n"
          ]
        }
      ]
    },
    {
      "cell_type": "code",
      "source": [
        "le = LabelEncoder()\n",
        "X[ : ,4] = le.fit_transform(X[ : ,4])\n",
        "print(\"\\n\\nInput : \\n\", X) \n",
        "print(X[: ,4])"
      ],
      "metadata": {
        "colab": {
          "base_uri": "https://localhost:8080/"
        },
        "id": "S7IRq6ZhY0NP",
        "outputId": "fee79bd6-6f49-42df-d63e-989b9133498d"
      },
      "execution_count": 16,
      "outputs": [
        {
          "output_type": "stream",
          "name": "stdout",
          "text": [
            "\n",
            "\n",
            "Input : \n",
            " [[0 13500 23.0 ... 0 2000 3]\n",
            " [1 13750 23.0 ... 0 2000 '3']\n",
            " [3 14950 26.0 ... 0 2000 '3']\n",
            " ...\n",
            " [1430 8450 80.0 ... 0 1300 '3']\n",
            " [1432 10845 72.0 ... 0 1300 '3']\n",
            " [1435 6950 76.0 ... 0 1600 '5']]\n",
            "[1 1 1 ... 2 2 2]\n"
          ]
        }
      ]
    },
    {
      "cell_type": "code",
      "source": [
        "dummy = pd.get_dummies(datasets['FuelType'])\n",
        "print(\"\\n\\nDummy :\\n\",dummy)"
      ],
      "metadata": {
        "colab": {
          "base_uri": "https://localhost:8080/"
        },
        "id": "7E0vJ1tdY2eC",
        "outputId": "25b97952-5c1b-48c7-d361-2125c4147b77"
      },
      "execution_count": 17,
      "outputs": [
        {
          "output_type": "stream",
          "name": "stdout",
          "text": [
            "\n",
            "\n",
            "Dummy :\n",
            "       CNG  Diesel  Petrol\n",
            "0       0       1       0\n",
            "1       0       1       0\n",
            "3       0       1       0\n",
            "4       0       1       0\n",
            "5       0       1       0\n",
            "...   ...     ...     ...\n",
            "1425    0       0       1\n",
            "1429    0       0       1\n",
            "1430    0       0       1\n",
            "1432    0       0       1\n",
            "1435    0       0       1\n",
            "\n",
            "[1111 rows x 3 columns]\n"
          ]
        }
      ]
    },
    {
      "cell_type": "code",
      "source": [
        "datasets = pd.concat([dummy,datasets],axis=1)\n",
        "print(\"\\n\\nFinal Data :\\n\",datasets)"
      ],
      "metadata": {
        "colab": {
          "base_uri": "https://localhost:8080/"
        },
        "id": "hFjsuQTvY2qe",
        "outputId": "60c6758f-8647-4fca-8c64-169bd23779ec"
      },
      "execution_count": 18,
      "outputs": [
        {
          "output_type": "stream",
          "name": "stdout",
          "text": [
            "\n",
            "\n",
            "Final Data :\n",
            "       CNG  Diesel  Petrol  Unnamed: 0  ...  Automatic    CC Doors Weight\n",
            "0       0       1       0           0  ...          0  2000     3   1165\n",
            "1       0       1       0           1  ...          0  2000     3   1165\n",
            "3       0       1       0           3  ...          0  2000     3   1165\n",
            "4       0       1       0           4  ...          0  2000     3   1170\n",
            "5       0       1       0           5  ...          0  2000     3   1170\n",
            "...   ...     ...     ...         ...  ...        ...   ...   ...    ...\n",
            "1425    0       0       1        1425  ...          0  1300     4   1000\n",
            "1429    0       0       1        1429  ...          1  1300     5   1065\n",
            "1430    0       0       1        1430  ...          0  1300     3   1015\n",
            "1432    0       0       1        1432  ...          0  1300     3   1015\n",
            "1435    0       0       1        1435  ...          0  1600     5   1114\n",
            "\n",
            "[1111 rows x 14 columns]\n"
          ]
        }
      ]
    },
    {
      "cell_type": "code",
      "source": [
        "datasets=pd.read_csv('/content/drive/MyDrive/Exercise-CarData.csv - Exercise-CarData.csv.csv')\n",
        "onehotencoder = OneHotEncoder()\n",
        "#reshape the 1-D country array to 2-D as fit_transform expects 2-D and finally fit the object \n",
        "x = onehotencoder.fit_transform(datasets.FuelType.values.reshape(-1,1)).toarray()\n",
        "print(x)"
      ],
      "metadata": {
        "colab": {
          "base_uri": "https://localhost:8080/"
        },
        "id": "9Kvzaz0bY7IM",
        "outputId": "e5571a5d-5178-4521-bfdd-dbb84729a7b2"
      },
      "execution_count": 19,
      "outputs": [
        {
          "output_type": "stream",
          "name": "stdout",
          "text": [
            "[[0. 1. 0. 0.]\n",
            " [0. 1. 0. 0.]\n",
            " [0. 1. 0. 0.]\n",
            " ...\n",
            " [0. 0. 1. 0.]\n",
            " [0. 0. 0. 1.]\n",
            " [0. 0. 1. 0.]]\n"
          ]
        }
      ]
    },
    {
      "cell_type": "code",
      "source": [
        "dfOneHot = pd.DataFrame(x, columns = [\"Country_\"+str(int(i)) for i in range(4)]) \n",
        "df = pd.concat([datasets, dfOneHot], axis=1) #column\n",
        "#droping the country column \n",
        "df= df.drop(['FuelType'], axis=1) \n",
        "#printing to verify \n",
        "print(df.head())"
      ],
      "metadata": {
        "colab": {
          "base_uri": "https://localhost:8080/"
        },
        "id": "6yRZBUeqZBN5",
        "outputId": "1920bee4-a074-48d9-c5c7-d4c66a72d017"
      },
      "execution_count": 27,
      "outputs": [
        {
          "output_type": "stream",
          "name": "stdout",
          "text": [
            "   Unnamed: 0  Price   Age     KM  ... Country_0  Country_1  Country_2  Country_3\n",
            "0           0  13500  23.0  46986  ...       0.0        1.0        0.0        0.0\n",
            "1           1  13750  23.0  72937  ...       0.0        1.0        0.0        0.0\n",
            "2           2  13950  24.0  41711  ...       0.0        1.0        0.0        0.0\n",
            "3           3  14950  26.0  48000  ...       0.0        1.0        0.0        0.0\n",
            "4           4  13750  30.0  38500  ...       0.0        1.0        0.0        0.0\n",
            "\n",
            "[5 rows x 14 columns]\n"
          ]
        }
      ]
    },
    {
      "cell_type": "markdown",
      "source": [
        "#feature_selection_corelation\n",
        "\n",
        "\n"
      ],
      "metadata": {
        "id": "lTh8m6s2bFNn"
      }
    },
    {
      "cell_type": "code",
      "source": [
        "import seaborn as sns\n"
      ],
      "metadata": {
        "id": "ioicsBwUbDjl"
      },
      "execution_count": 28,
      "outputs": []
    },
    {
      "cell_type": "code",
      "source": [
        "datasets=pd.read_csv('/content/drive/MyDrive/Exercise-CarData.csv - Exercise-CarData.csv.csv')"
      ],
      "metadata": {
        "id": "q8lGAPCgbgHj"
      },
      "execution_count": 29,
      "outputs": []
    },
    {
      "cell_type": "code",
      "source": [
        "datasets.head()"
      ],
      "metadata": {
        "colab": {
          "base_uri": "https://localhost:8080/",
          "height": 206
        },
        "id": "thCVEOZibgNK",
        "outputId": "dcc67b59-31ea-43ef-f7f8-757aa6bb9a7c"
      },
      "execution_count": 31,
      "outputs": [
        {
          "output_type": "execute_result",
          "data": {
            "text/html": [
              "<div>\n",
              "<style scoped>\n",
              "    .dataframe tbody tr th:only-of-type {\n",
              "        vertical-align: middle;\n",
              "    }\n",
              "\n",
              "    .dataframe tbody tr th {\n",
              "        vertical-align: top;\n",
              "    }\n",
              "\n",
              "    .dataframe thead th {\n",
              "        text-align: right;\n",
              "    }\n",
              "</style>\n",
              "<table border=\"1\" class=\"dataframe\">\n",
              "  <thead>\n",
              "    <tr style=\"text-align: right;\">\n",
              "      <th></th>\n",
              "      <th>Unnamed: 0</th>\n",
              "      <th>Price</th>\n",
              "      <th>Age</th>\n",
              "      <th>KM</th>\n",
              "      <th>FuelType</th>\n",
              "      <th>HP</th>\n",
              "      <th>MetColor</th>\n",
              "      <th>Automatic</th>\n",
              "      <th>CC</th>\n",
              "      <th>Doors</th>\n",
              "      <th>Weight</th>\n",
              "    </tr>\n",
              "  </thead>\n",
              "  <tbody>\n",
              "    <tr>\n",
              "      <th>0</th>\n",
              "      <td>0</td>\n",
              "      <td>13500</td>\n",
              "      <td>23.0</td>\n",
              "      <td>46986</td>\n",
              "      <td>Diesel</td>\n",
              "      <td>90</td>\n",
              "      <td>1.0</td>\n",
              "      <td>0</td>\n",
              "      <td>2000</td>\n",
              "      <td>three</td>\n",
              "      <td>1165</td>\n",
              "    </tr>\n",
              "    <tr>\n",
              "      <th>1</th>\n",
              "      <td>1</td>\n",
              "      <td>13750</td>\n",
              "      <td>23.0</td>\n",
              "      <td>72937</td>\n",
              "      <td>Diesel</td>\n",
              "      <td>90</td>\n",
              "      <td>1.0</td>\n",
              "      <td>0</td>\n",
              "      <td>2000</td>\n",
              "      <td>3</td>\n",
              "      <td>1165</td>\n",
              "    </tr>\n",
              "    <tr>\n",
              "      <th>2</th>\n",
              "      <td>2</td>\n",
              "      <td>13950</td>\n",
              "      <td>24.0</td>\n",
              "      <td>41711</td>\n",
              "      <td>Diesel</td>\n",
              "      <td>90</td>\n",
              "      <td>NaN</td>\n",
              "      <td>0</td>\n",
              "      <td>2000</td>\n",
              "      <td>3</td>\n",
              "      <td>1165</td>\n",
              "    </tr>\n",
              "    <tr>\n",
              "      <th>3</th>\n",
              "      <td>3</td>\n",
              "      <td>14950</td>\n",
              "      <td>26.0</td>\n",
              "      <td>48000</td>\n",
              "      <td>Diesel</td>\n",
              "      <td>90</td>\n",
              "      <td>0.0</td>\n",
              "      <td>0</td>\n",
              "      <td>2000</td>\n",
              "      <td>3</td>\n",
              "      <td>1165</td>\n",
              "    </tr>\n",
              "    <tr>\n",
              "      <th>4</th>\n",
              "      <td>4</td>\n",
              "      <td>13750</td>\n",
              "      <td>30.0</td>\n",
              "      <td>38500</td>\n",
              "      <td>Diesel</td>\n",
              "      <td>90</td>\n",
              "      <td>0.0</td>\n",
              "      <td>0</td>\n",
              "      <td>2000</td>\n",
              "      <td>3</td>\n",
              "      <td>1170</td>\n",
              "    </tr>\n",
              "  </tbody>\n",
              "</table>\n",
              "</div>"
            ],
            "text/plain": [
              "   Unnamed: 0  Price   Age     KM  ... Automatic    CC  Doors  Weight\n",
              "0           0  13500  23.0  46986  ...         0  2000  three    1165\n",
              "1           1  13750  23.0  72937  ...         0  2000      3    1165\n",
              "2           2  13950  24.0  41711  ...         0  2000      3    1165\n",
              "3           3  14950  26.0  48000  ...         0  2000      3    1165\n",
              "4           4  13750  30.0  38500  ...         0  2000      3    1170\n",
              "\n",
              "[5 rows x 11 columns]"
            ]
          },
          "metadata": {},
          "execution_count": 31
        }
      ]
    },
    {
      "cell_type": "code",
      "source": [
        "datasets = datasets.iloc[:,:-1]\n",
        "datasets.head()"
      ],
      "metadata": {
        "colab": {
          "base_uri": "https://localhost:8080/",
          "height": 206
        },
        "id": "lyMVlfEabz6F",
        "outputId": "9c8f6d97-7997-4be3-de63-9c799123e77f"
      },
      "execution_count": 32,
      "outputs": [
        {
          "output_type": "execute_result",
          "data": {
            "text/html": [
              "<div>\n",
              "<style scoped>\n",
              "    .dataframe tbody tr th:only-of-type {\n",
              "        vertical-align: middle;\n",
              "    }\n",
              "\n",
              "    .dataframe tbody tr th {\n",
              "        vertical-align: top;\n",
              "    }\n",
              "\n",
              "    .dataframe thead th {\n",
              "        text-align: right;\n",
              "    }\n",
              "</style>\n",
              "<table border=\"1\" class=\"dataframe\">\n",
              "  <thead>\n",
              "    <tr style=\"text-align: right;\">\n",
              "      <th></th>\n",
              "      <th>Unnamed: 0</th>\n",
              "      <th>Price</th>\n",
              "      <th>Age</th>\n",
              "      <th>KM</th>\n",
              "      <th>FuelType</th>\n",
              "      <th>HP</th>\n",
              "      <th>MetColor</th>\n",
              "      <th>Automatic</th>\n",
              "      <th>CC</th>\n",
              "      <th>Doors</th>\n",
              "    </tr>\n",
              "  </thead>\n",
              "  <tbody>\n",
              "    <tr>\n",
              "      <th>0</th>\n",
              "      <td>0</td>\n",
              "      <td>13500</td>\n",
              "      <td>23.0</td>\n",
              "      <td>46986</td>\n",
              "      <td>Diesel</td>\n",
              "      <td>90</td>\n",
              "      <td>1.0</td>\n",
              "      <td>0</td>\n",
              "      <td>2000</td>\n",
              "      <td>three</td>\n",
              "    </tr>\n",
              "    <tr>\n",
              "      <th>1</th>\n",
              "      <td>1</td>\n",
              "      <td>13750</td>\n",
              "      <td>23.0</td>\n",
              "      <td>72937</td>\n",
              "      <td>Diesel</td>\n",
              "      <td>90</td>\n",
              "      <td>1.0</td>\n",
              "      <td>0</td>\n",
              "      <td>2000</td>\n",
              "      <td>3</td>\n",
              "    </tr>\n",
              "    <tr>\n",
              "      <th>2</th>\n",
              "      <td>2</td>\n",
              "      <td>13950</td>\n",
              "      <td>24.0</td>\n",
              "      <td>41711</td>\n",
              "      <td>Diesel</td>\n",
              "      <td>90</td>\n",
              "      <td>NaN</td>\n",
              "      <td>0</td>\n",
              "      <td>2000</td>\n",
              "      <td>3</td>\n",
              "    </tr>\n",
              "    <tr>\n",
              "      <th>3</th>\n",
              "      <td>3</td>\n",
              "      <td>14950</td>\n",
              "      <td>26.0</td>\n",
              "      <td>48000</td>\n",
              "      <td>Diesel</td>\n",
              "      <td>90</td>\n",
              "      <td>0.0</td>\n",
              "      <td>0</td>\n",
              "      <td>2000</td>\n",
              "      <td>3</td>\n",
              "    </tr>\n",
              "    <tr>\n",
              "      <th>4</th>\n",
              "      <td>4</td>\n",
              "      <td>13750</td>\n",
              "      <td>30.0</td>\n",
              "      <td>38500</td>\n",
              "      <td>Diesel</td>\n",
              "      <td>90</td>\n",
              "      <td>0.0</td>\n",
              "      <td>0</td>\n",
              "      <td>2000</td>\n",
              "      <td>3</td>\n",
              "    </tr>\n",
              "  </tbody>\n",
              "</table>\n",
              "</div>"
            ],
            "text/plain": [
              "   Unnamed: 0  Price   Age     KM  ... MetColor Automatic    CC  Doors\n",
              "0           0  13500  23.0  46986  ...      1.0         0  2000  three\n",
              "1           1  13750  23.0  72937  ...      1.0         0  2000      3\n",
              "2           2  13950  24.0  41711  ...      NaN         0  2000      3\n",
              "3           3  14950  26.0  48000  ...      0.0         0  2000      3\n",
              "4           4  13750  30.0  38500  ...      0.0         0  2000      3\n",
              "\n",
              "[5 rows x 10 columns]"
            ]
          },
          "metadata": {},
          "execution_count": 32
        }
      ]
    },
    {
      "cell_type": "code",
      "source": [
        "datasets.info()"
      ],
      "metadata": {
        "colab": {
          "base_uri": "https://localhost:8080/"
        },
        "id": "_WyDkgfUb6Pj",
        "outputId": "663562d8-213f-4a6d-bd02-3b6f8bc4300f"
      },
      "execution_count": 33,
      "outputs": [
        {
          "output_type": "stream",
          "name": "stdout",
          "text": [
            "<class 'pandas.core.frame.DataFrame'>\n",
            "RangeIndex: 1436 entries, 0 to 1435\n",
            "Data columns (total 10 columns):\n",
            " #   Column      Non-Null Count  Dtype  \n",
            "---  ------      --------------  -----  \n",
            " 0   Unnamed: 0  1436 non-null   int64  \n",
            " 1   Price       1436 non-null   int64  \n",
            " 2   Age         1336 non-null   float64\n",
            " 3   KM          1436 non-null   object \n",
            " 4   FuelType    1336 non-null   object \n",
            " 5   HP          1436 non-null   object \n",
            " 6   MetColor    1286 non-null   float64\n",
            " 7   Automatic   1436 non-null   int64  \n",
            " 8   CC          1436 non-null   int64  \n",
            " 9   Doors       1436 non-null   object \n",
            "dtypes: float64(2), int64(4), object(4)\n",
            "memory usage: 112.3+ KB\n"
          ]
        }
      ]
    },
    {
      "cell_type": "code",
      "source": [
        "corr = datasets.corr()\n",
        "corr.head()"
      ],
      "metadata": {
        "colab": {
          "base_uri": "https://localhost:8080/",
          "height": 206
        },
        "id": "jsvDkDU4b-Ui",
        "outputId": "23ab3f7c-f629-4a3f-fb41-7282a9a6e528"
      },
      "execution_count": 34,
      "outputs": [
        {
          "output_type": "execute_result",
          "data": {
            "text/html": [
              "<div>\n",
              "<style scoped>\n",
              "    .dataframe tbody tr th:only-of-type {\n",
              "        vertical-align: middle;\n",
              "    }\n",
              "\n",
              "    .dataframe tbody tr th {\n",
              "        vertical-align: top;\n",
              "    }\n",
              "\n",
              "    .dataframe thead th {\n",
              "        text-align: right;\n",
              "    }\n",
              "</style>\n",
              "<table border=\"1\" class=\"dataframe\">\n",
              "  <thead>\n",
              "    <tr style=\"text-align: right;\">\n",
              "      <th></th>\n",
              "      <th>Unnamed: 0</th>\n",
              "      <th>Price</th>\n",
              "      <th>Age</th>\n",
              "      <th>MetColor</th>\n",
              "      <th>Automatic</th>\n",
              "      <th>CC</th>\n",
              "    </tr>\n",
              "  </thead>\n",
              "  <tbody>\n",
              "    <tr>\n",
              "      <th>Unnamed: 0</th>\n",
              "      <td>1.000000</td>\n",
              "      <td>-0.738289</td>\n",
              "      <td>0.907090</td>\n",
              "      <td>-0.078616</td>\n",
              "      <td>0.066299</td>\n",
              "      <td>-0.184490</td>\n",
              "    </tr>\n",
              "    <tr>\n",
              "      <th>Price</th>\n",
              "      <td>-0.738289</td>\n",
              "      <td>1.000000</td>\n",
              "      <td>-0.878407</td>\n",
              "      <td>0.112041</td>\n",
              "      <td>0.033081</td>\n",
              "      <td>0.165067</td>\n",
              "    </tr>\n",
              "    <tr>\n",
              "      <th>Age</th>\n",
              "      <td>0.907090</td>\n",
              "      <td>-0.878407</td>\n",
              "      <td>1.000000</td>\n",
              "      <td>-0.099659</td>\n",
              "      <td>0.032573</td>\n",
              "      <td>-0.120706</td>\n",
              "    </tr>\n",
              "    <tr>\n",
              "      <th>MetColor</th>\n",
              "      <td>-0.078616</td>\n",
              "      <td>0.112041</td>\n",
              "      <td>-0.099659</td>\n",
              "      <td>1.000000</td>\n",
              "      <td>-0.013973</td>\n",
              "      <td>0.029189</td>\n",
              "    </tr>\n",
              "    <tr>\n",
              "      <th>Automatic</th>\n",
              "      <td>0.066299</td>\n",
              "      <td>0.033081</td>\n",
              "      <td>0.032573</td>\n",
              "      <td>-0.013973</td>\n",
              "      <td>1.000000</td>\n",
              "      <td>-0.069321</td>\n",
              "    </tr>\n",
              "  </tbody>\n",
              "</table>\n",
              "</div>"
            ],
            "text/plain": [
              "            Unnamed: 0     Price       Age  MetColor  Automatic        CC\n",
              "Unnamed: 0    1.000000 -0.738289  0.907090 -0.078616   0.066299 -0.184490\n",
              "Price        -0.738289  1.000000 -0.878407  0.112041   0.033081  0.165067\n",
              "Age           0.907090 -0.878407  1.000000 -0.099659   0.032573 -0.120706\n",
              "MetColor     -0.078616  0.112041 -0.099659  1.000000  -0.013973  0.029189\n",
              "Automatic     0.066299  0.033081  0.032573 -0.013973   1.000000 -0.069321"
            ]
          },
          "metadata": {},
          "execution_count": 34
        }
      ]
    },
    {
      "cell_type": "code",
      "source": [
        "sns.heatmap(corr)"
      ],
      "metadata": {
        "colab": {
          "base_uri": "https://localhost:8080/",
          "height": 337
        },
        "id": "iAk-hs3gcGyR",
        "outputId": "4f882333-dd01-4040-8fd8-5d3a031feb40"
      },
      "execution_count": 35,
      "outputs": [
        {
          "output_type": "execute_result",
          "data": {
            "text/plain": [
              "<matplotlib.axes._subplots.AxesSubplot at 0x7fa06cf80450>"
            ]
          },
          "metadata": {},
          "execution_count": 35
        },
        {
          "output_type": "display_data",
          "data": {
            "image/png": "[encoded data removed]",
            "text/plain": [
              "<Figure size 432x288 with 2 Axes>"
            ]
          },
          "metadata": {
            "needs_background": "light"
          }
        }
      ]
    },
    {
      "cell_type": "code",
      "source": [
        "columns = np.full((corr.shape[0],), True, dtype=bool)\n",
        "for i in range(corr.shape[0]):\n",
        "    for j in range(i+1, corr.shape[0]):\n",
        "        if corr.iloc[i,j] >= 0.9:\n",
        "            if columns[j]:\n",
        "                columns[j] = False"
      ],
      "metadata": {
        "colab": {
          "base_uri": "https://localhost:8080/"
        },
        "id": "o52INxKicIfA",
        "outputId": "570f5ac3-4b53-426c-b042-6674521b45d8"
      },
      "execution_count": 40,
      "outputs": [
        {
          "output_type": "stream",
          "name": "stdout",
          "text": [
            "5\n"
          ]
        }
      ]
    },
    {
      "cell_type": "code",
      "source": [
        "selected_columns = datasets.columns[j+1]"
      ],
      "metadata": {
        "id": "Wm7vs-1KcbAH"
      },
      "execution_count": 46,
      "outputs": []
    },
    {
      "cell_type": "code",
      "source": [
        "data = datasets[selected_columns]\n",
        "print(data)"
      ],
      "metadata": {
        "colab": {
          "base_uri": "https://localhost:8080/"
        },
        "id": "oe9_K41OdKG9",
        "outputId": "9a74f012-2fa5-4b41-da35-7e6997ac8f23"
      },
      "execution_count": 48,
      "outputs": [
        {
          "output_type": "stream",
          "name": "stdout",
          "text": [
            "0       1.0\n",
            "1       1.0\n",
            "2       NaN\n",
            "3       0.0\n",
            "4       0.0\n",
            "       ... \n",
            "1431    1.0\n",
            "1432    0.0\n",
            "1433    0.0\n",
            "1434    1.0\n",
            "1435    0.0\n",
            "Name: MetColor, Length: 1436, dtype: float64\n"
          ]
        }
      ]
    }
  ]
}