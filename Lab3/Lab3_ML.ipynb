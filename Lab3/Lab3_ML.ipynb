{
  "nbformat": 4,
  "nbformat_minor": 0,
  "metadata": {
    "colab": {
      "name": "Lab3_ML.ipynb",
      "provenance": [],
      "collapsed_sections": []
    },
    "kernelspec": {
      "name": "python3",
      "display_name": "Python 3"
    },
    "language_info": {
      "name": "python"
    }
  },
  "cells": [
    {
      "cell_type": "code",
      "execution_count": null,
      "metadata": {
        "id": "-_UmCUBANaxN"
      },
      "outputs": [],
      "source": [
        "import numpy\n",
        "import numpy as np\n",
        "\n",
        "from sklearn import datasets"
      ]
    },
    {
      "cell_type": "code",
      "source": [
        "from google.colab import drive\n",
        "drive.mount('/content/drive')"
      ],
      "metadata": {
        "colab": {
          "base_uri": "https://localhost:8080/"
        },
        "id": "DspIXdnQOH9Q",
        "outputId": "06ba675c-dae4-472c-c756-da76cb59057e"
      },
      "execution_count": null,
      "outputs": [
        {
          "output_type": "stream",
          "name": "stdout",
          "text": [
            "Mounted at /content/drive\n"
          ]
        }
      ]
    },
    {
      "cell_type": "code",
      "source": [
        "import pandas as pd\n",
        "datasets=pd.read_csv('/content/drive/MyDrive/Dataset1.csv - Dataset1.csv.csv')"
      ],
      "metadata": {
        "id": "Xk_BzeK0Oc4T"
      },
      "execution_count": null,
      "outputs": []
    },
    {
      "cell_type": "code",
      "source": [
        "print(\"Features: \\n\", datasets.iloc[:,:-1])"
      ],
      "metadata": {
        "colab": {
          "base_uri": "https://localhost:8080/"
        },
        "id": "3KskjKkZOyCM",
        "outputId": "df085f6e-bf8a-4c95-9338-b39b6afa29f8"
      },
      "execution_count": null,
      "outputs": [
        {
          "output_type": "stream",
          "name": "stdout",
          "text": [
            "Features: \n",
            "    Outlook Temp Humidity Wind\n",
            "0        R    H   Normal    F\n",
            "1        R    H     High    T\n",
            "2        O    H   Normal    F\n",
            "3        S    M   Normal    F\n",
            "4        S    C   Normal    F\n",
            "5        S    C      Low    T\n",
            "6        O    C   Normal    T\n",
            "7        R    M   Normal    F\n",
            "8        R    C      Low    F\n",
            "9        S    M     High    F\n",
            "10       R    M     High    T\n",
            "11       O    M      Low    T\n",
            "12       O    H   Normal    F\n",
            "13       S    M   Normal    T\n"
          ]
        }
      ]
    },
    {
      "cell_type": "code",
      "source": [
        "print(\"Features: \\n\", datasets.Play)"
      ],
      "metadata": {
        "colab": {
          "base_uri": "https://localhost:8080/"
        },
        "id": "MtOoUGsYUaT0",
        "outputId": "e2e68660-a043-41e3-ba6c-3aa620339466"
      },
      "execution_count": null,
      "outputs": [
        {
          "output_type": "stream",
          "name": "stdout",
          "text": [
            "Features: \n",
            " 0     N\n",
            "1     N\n",
            "2     Y\n",
            "3     Y\n",
            "4     Y\n",
            "5     N\n",
            "6     Y\n",
            "7     N\n",
            "8     Y\n",
            "9     Y\n",
            "10    Y\n",
            "11    Y\n",
            "12    Y\n",
            "13    N\n",
            "Name: Play, dtype: object\n"
          ]
        }
      ]
    },
    {
      "cell_type": "code",
      "source": [
        "datasets.shape"
      ],
      "metadata": {
        "colab": {
          "base_uri": "https://localhost:8080/"
        },
        "id": "mlQwvr2CUhLH",
        "outputId": "d44e185a-7da7-4b98-9bb9-982f4c4bc987"
      },
      "execution_count": null,
      "outputs": [
        {
          "output_type": "execute_result",
          "data": {
            "text/plain": [
              "(14, 5)"
            ]
          },
          "metadata": {},
          "execution_count": 50
        }
      ]
    },
    {
      "cell_type": "code",
      "source": [
        "from sklearn.model_selection import train_test_split"
      ],
      "metadata": {
        "id": "cWAd0sIQU9CE"
      },
      "execution_count": null,
      "outputs": []
    },
    {
      "cell_type": "code",
      "source": [
        "data_train, data_test, target_train, target_test = train_test_split(datasets,\n",
        "datasets.Play, test_size = 0.20, random_state = 2)"
      ],
      "metadata": {
        "id": "pOTOErPpVPPm"
      },
      "execution_count": null,
      "outputs": []
    },
    {
      "cell_type": "code",
      "source": [
        "from sklearn import preprocessing\n",
        "le = preprocessing.LabelEncoder()\n",
        "datasets.Outlook=le.fit_transform(datasets.Outlook)\n",
        "datasets.Temp=le.fit_transform(datasets.Temp)\n",
        "datasets.Humidity=le.fit_transform(datasets.Humidity)\n",
        "datasets.Wind=le.fit_transform(datasets.Wind)\n",
        "datasets.Play=le.fit_transform(datasets.Play)"
      ],
      "metadata": {
        "id": "nct5FCszXTjP"
      },
      "execution_count": null,
      "outputs": []
    },
    {
      "cell_type": "code",
      "source": [
        ""
      ],
      "metadata": {
        "id": "Ch9PeNqTZxL7"
      },
      "execution_count": null,
      "outputs": []
    },
    {
      "cell_type": "code",
      "source": [
        "from sklearn.naive_bayes import GaussianNB\n",
        "gnb = GaussianNB()\n",
        "gnb.fit(data_train, target_train)\n",
        "print(data_train)\n",
        "print(target_train)\n",
        "print(data_test)\n",
        "print(target_test)\n",
        "target_pred = gnb.predict(data_test)"
      ],
      "metadata": {
        "colab": {
          "base_uri": "https://localhost:8080/"
        },
        "id": "JPZplgrSWAgz",
        "outputId": "54b3e566-d637-4e16-8ef1-c504cd65aa32"
      },
      "execution_count": null,
      "outputs": [
        {
          "output_type": "stream",
          "name": "stdout",
          "text": [
            "    Outlook  Temp  Humidity  Wind  Play\n",
            "0         1     1         2     0     0\n",
            "9         2     2         0     0     1\n",
            "3         2     2         2     0     1\n",
            "1         1     1         0     1     0\n",
            "10        1     2         0     1     1\n",
            "7         1     2         2     0     0\n",
            "12        0     1         2     0     1\n",
            "2         0     1         2     0     1\n",
            "6         0     0         2     1     1\n",
            "13        2     2         2     1     0\n",
            "8         1     0         1     0     1\n",
            "0     0\n",
            "9     1\n",
            "3     1\n",
            "1     0\n",
            "10    1\n",
            "7     0\n",
            "12    1\n",
            "2     1\n",
            "6     1\n",
            "13    0\n",
            "8     1\n",
            "Name: Play, dtype: int64\n",
            "    Outlook  Temp  Humidity  Wind  Play\n",
            "11        0     2         1     1     1\n",
            "4         2     0         2     0     1\n",
            "5         2     0         1     1     0\n",
            "11    1\n",
            "4     1\n",
            "5     0\n",
            "Name: Play, dtype: int64\n"
          ]
        }
      ]
    },
    {
      "cell_type": "code",
      "source": [
        "from sklearn import metrics"
      ],
      "metadata": {
        "id": "750ThKCuZB6p"
      },
      "execution_count": null,
      "outputs": []
    },
    {
      "cell_type": "code",
      "source": [
        "print(\"Accuracy:\",metrics.accuracy_score(target_test, target_pred))"
      ],
      "metadata": {
        "colab": {
          "base_uri": "https://localhost:8080/"
        },
        "id": "A_yr5bJCZGmC",
        "outputId": "bfdbaaef-2ae6-497c-b1b7-cab03b2b3d6a"
      },
      "execution_count": null,
      "outputs": [
        {
          "output_type": "stream",
          "name": "stdout",
          "text": [
            "Accuracy: 1.0\n"
          ]
        }
      ]
    },
    {
      "cell_type": "code",
      "source": [
        "from sklearn.metrics import confusion_matrix\n",
        "confusion_matrix(target_test, target_pred)"
      ],
      "metadata": {
        "colab": {
          "base_uri": "https://localhost:8080/"
        },
        "id": "63Naqn9iZLqO",
        "outputId": "0b71b243-da8d-4299-8122-6f734d04188e"
      },
      "execution_count": null,
      "outputs": [
        {
          "output_type": "execute_result",
          "data": {
            "text/plain": [
              "array([[1, 0],\n",
              "       [0, 2]])"
            ]
          },
          "metadata": {},
          "execution_count": 75
        }
      ]
    },
    {
      "cell_type": "code",
      "source": [
        "from sklearn.metrics import precision_score\n",
        "from sklearn.metrics import recall_score\n",
        "precision = precision_score(target_test, target_pred)\n",
        "recall = recall_score(target_test, target_pred)\n",
        "print('precision: {}'.format(precision))\n",
        "print('recall: {}'.format(recall))"
      ],
      "metadata": {
        "colab": {
          "base_uri": "https://localhost:8080/"
        },
        "id": "YV9yUcGDZeHA",
        "outputId": "3badd721-c919-42d8-be56-e7bef68a7602"
      },
      "execution_count": null,
      "outputs": [
        {
          "output_type": "stream",
          "name": "stdout",
          "text": [
            "precision: 1.0\n",
            "recall: 1.0\n"
          ]
        }
      ]
    }
  ]
}