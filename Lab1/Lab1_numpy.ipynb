{
  "nbformat": 4,
  "nbformat_minor": 0,
  "metadata": {
    "colab": {
      "name": "LAb_1_ML_1.ipynb",
      "provenance": [],
      "collapsed_sections": []
    },
    "kernelspec": {
      "name": "python3",
      "display_name": "Python 3"
    },
    "language_info": {
      "name": "python"
    }
  },
  "cells": [
    {
      "cell_type": "markdown",
      "source": [
        "1) Create a Numpy array of size 4 x 5."
      ],
      "metadata": {
        "id": "raEHMJVR5Huv"
      }
    },
    {
      "cell_type": "code",
      "metadata": {
        "colab": {
          "base_uri": "https://localhost:8080/"
        },
        "id": "ebc834rbLjYE",
        "outputId": "dad560ba-5404-48d4-eff6-d52ec0d578bd"
      },
      "source": [
        "import numpy as np\n",
        "matrix2=np.array([[1,2,3,4],[1,2,3,4],[1,2,3,4],[1,2,3,4],[1,2,3,4]])\n",
        "print(matrix)"
      ],
      "execution_count": null,
      "outputs": [
        {
          "output_type": "stream",
          "name": "stdout",
          "text": [
            "[[1 2]\n",
            " [3 4]]\n"
          ]
        }
      ]
    },
    {
      "cell_type": "markdown",
      "source": [
        "2) Randomly initialize the array."
      ],
      "metadata": {
        "id": "rZCaNVmf5U1C"
      }
    },
    {
      "cell_type": "code",
      "metadata": {
        "colab": {
          "base_uri": "https://localhost:8080/"
        },
        "id": "69_yyfb-Mk_s",
        "outputId": "0788c688-15d7-4999-ba18-06243fafb0c4"
      },
      "source": [
        "\n",
        "rand=np.random.rand(5)\n",
        "print(rand)\n"
      ],
      "execution_count": null,
      "outputs": [
        {
          "output_type": "stream",
          "name": "stdout",
          "text": [
            "[0.73185652 0.68576186 0.76943774 0.46184904 0.11958791]\n"
          ]
        }
      ]
    },
    {
      "cell_type": "markdown",
      "source": [
        "3) Get the Transpose of the Matrix that you created. Create a square matrix and find its determinant."
      ],
      "metadata": {
        "id": "kX5Fg27f5Wcq"
      }
    },
    {
      "cell_type": "code",
      "metadata": {
        "colab": {
          "base_uri": "https://localhost:8080/"
        },
        "id": "KWJ6HnnpN0Q-",
        "outputId": "2c1d0fda-5244-45de-84b8-186fb2431587"
      },
      "source": [
        "\n",
        "matrix=np.array([[1,2],[3,4]])\n",
        "print(matrix.transpose())"
      ],
      "execution_count": null,
      "outputs": [
        {
          "output_type": "stream",
          "name": "stdout",
          "text": [
            "[[1 3]\n",
            " [2 4]]\n"
          ]
        }
      ]
    },
    {
      "cell_type": "markdown",
      "source": [
        "4) Create another matrix of size 5 x 4 and randomly initialize it."
      ],
      "metadata": {
        "id": "vdxKbRTF5auY"
      }
    },
    {
      "cell_type": "code",
      "metadata": {
        "colab": {
          "base_uri": "https://localhost:8080/"
        },
        "id": "PnMt-0BNO0-O",
        "outputId": "2dc2eee5-e28a-4dd5-9ad8-6ccd43676ebb"
      },
      "source": [
        "\n",
        "rand=np.random.rand(5,4)\n",
        "print(rand)"
      ],
      "execution_count": null,
      "outputs": [
        {
          "output_type": "stream",
          "name": "stdout",
          "text": [
            "[[0.60204985 0.6934171  0.4965878  0.31822933]\n",
            " [0.76928633 0.04510927 0.00197494 0.85438988]\n",
            " [0.83763623 0.28833274 0.24369996 0.48256469]\n",
            " [0.06606928 0.72912193 0.16714786 0.91013794]\n",
            " [0.86440901 0.64262462 0.26725636 0.82583221]]\n"
          ]
        }
      ]
    },
    {
      "cell_type": "markdown",
      "source": [
        "5) Perform Matrix multiplication.\n",
        "6) Perform element wise matrix multiplication."
      ],
      "metadata": {
        "id": "7Y8lBPrG5fbp"
      }
    },
    {
      "cell_type": "code",
      "metadata": {
        "colab": {
          "base_uri": "https://localhost:8080/"
        },
        "id": "W2uKF-nJPDqV",
        "outputId": "f856303f-9529-44d3-bcdb-138a43fb2a8a"
      },
      "source": [
        "matrix1=np.array([[3,4],[5,4]])*matrix\n",
        "print(matrix1)\n",
        "matrix1=np.dot(np.array([[3,4],[5,4]]),matrix)\n",
        "print(matrix1)\n",
        "matrix1=matrix1.T\n",
        "print(matrix1)"
      ],
      "execution_count": null,
      "outputs": [
        {
          "output_type": "stream",
          "name": "stdout",
          "text": [
            "[[ 3  8]\n",
            " [15 16]]\n",
            "[[15 22]\n",
            " [17 26]]\n",
            "[[15 17]\n",
            " [22 26]]\n"
          ]
        }
      ]
    },
    {
      "cell_type": "markdown",
      "source": [
        "7) Find mean, median of the numpy array created.\n",
        "\n",
        "\n",
        "\n"
      ],
      "metadata": {
        "id": "dCvC_QDd5i2q"
      }
    },
    {
      "cell_type": "code",
      "metadata": {
        "colab": {
          "base_uri": "https://localhost:8080/"
        },
        "id": "yW08IltQQRKw",
        "outputId": "bcc29696-a257-48f7-cbfa-cfe5f8350a39"
      },
      "source": [
        "print(np.mean(matrix1))\n",
        "print(np.mean(matrix1,axis=0))\n",
        "print(np.mean(matrix1,axis=1))\n",
        "print(np.median(matrix1))"
      ],
      "execution_count": null,
      "outputs": [
        {
          "output_type": "stream",
          "name": "stdout",
          "text": [
            "20.0\n",
            "[18.5 21.5]\n",
            "[16. 24.]\n",
            "19.5\n"
          ]
        }
      ]
    },
    {
      "cell_type": "markdown",
      "source": [
        "8) Obtain each row in the second column of the first array."
      ],
      "metadata": {
        "id": "vJONU4g66UHG"
      }
    },
    {
      "cell_type": "code",
      "metadata": {
        "colab": {
          "base_uri": "https://localhost:8080/"
        },
        "id": "6MmHX1ZoRJNM",
        "outputId": "51e266d1-8964-4aca-bcfc-5f749ff8386d"
      },
      "source": [
        "print(matrix2[:,1])"
      ],
      "execution_count": null,
      "outputs": [
        {
          "output_type": "stream",
          "name": "stdout",
          "text": [
            "[2 2 2 2 2]\n"
          ]
        }
      ]
    },
    {
      "cell_type": "markdown",
      "source": [
        "9) Convert Numeric entries(columns) of Iris.csv to Mean Centered Version"
      ],
      "metadata": {
        "id": "R37DMeRp6jKI"
      }
    },
    {
      "cell_type": "code",
      "source": [
        "import numpy as np\n",
        "from google.colab import drive\n",
        "drive.mount('/content/drive')\n",
        "data=pd.read_csv('/content/drive/MyDrive/Iris.csv - Iris.csv.csv')\n",
        "centered=data['SepalLengthCm']-np.mean(data['SepalLengthCm'],axis=0)\n",
        "print(centered)"
      ],
      "metadata": {
        "colab": {
          "base_uri": "https://localhost:8080/"
        },
        "id": "EMKB7vbn6nZQ",
        "outputId": "74ac3f70-7037-4049-e17d-3a1fd8ace4be"
      },
      "execution_count": null,
      "outputs": [
        {
          "output_type": "stream",
          "name": "stdout",
          "text": [
            "Drive already mounted at /content/drive; to attempt to forcibly remount, call drive.mount(\"/content/drive\", force_remount=True).\n",
            "0     -0.743333\n",
            "1     -0.943333\n",
            "2     -1.143333\n",
            "3     -1.243333\n",
            "4     -0.843333\n",
            "         ...   \n",
            "145    0.856667\n",
            "146    0.456667\n",
            "147    0.656667\n",
            "148    0.356667\n",
            "149    0.056667\n",
            "Name: SepalLengthCm, Length: 150, dtype: float64\n"
          ]
        }
      ]
    }
  ]
}