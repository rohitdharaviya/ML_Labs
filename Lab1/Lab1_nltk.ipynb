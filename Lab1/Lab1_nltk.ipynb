{
  "nbformat": 4,
  "nbformat_minor": 0,
  "metadata": {
    "colab": {
      "name": "Lab1_ML_nltk",
      "provenance": [],
      "collapsed_sections": []
    },
    "kernelspec": {
      "name": "python3",
      "display_name": "Python 3"
    },
    "language_info": {
      "name": "python"
    }
  },
  "cells": [
    {
      "cell_type": "code",
      "execution_count": null,
      "metadata": {
        "id": "dvo3wTr7A_mB"
      },
      "outputs": [],
      "source": [
        "import nltk\n",
        "from nltk.corpus import opinion_lexicon\n",
        "import matplotlib.pyplot as plt\n",
        "import random"
      ]
    },
    {
      "cell_type": "code",
      "source": [
        "nltk.download('opinion_lexicon')"
      ],
      "metadata": {
        "colab": {
          "base_uri": "https://localhost:8080/"
        },
        "id": "108SkG2bBGCx",
        "outputId": "0b901090-fd76-45c1-e1bb-47c92977a265"
      },
      "execution_count": null,
      "outputs": [
        {
          "output_type": "stream",
          "name": "stdout",
          "text": [
            "[nltk_data] Downloading package opinion_lexicon to /root/nltk_data...\n",
            "[nltk_data]   Unzipping corpora/opinion_lexicon.zip.\n"
          ]
        },
        {
          "output_type": "execute_result",
          "data": {
            "text/plain": [
              "True"
            ]
          },
          "metadata": {},
          "execution_count": 6
        }
      ]
    },
    {
      "cell_type": "code",
      "source": [
        "opinion_lexicon.negative()\n"
      ],
      "metadata": {
        "colab": {
          "base_uri": "https://localhost:8080/"
        },
        "id": "be1Ol8zBBPY5",
        "outputId": "b2ad9ee5-18f5-4a28-888f-f837a6c364f3"
      },
      "execution_count": null,
      "outputs": [
        {
          "output_type": "execute_result",
          "data": {
            "text/plain": [
              "['2-faced', '2-faces', 'abnormal', 'abolish', ...]"
            ]
          },
          "metadata": {},
          "execution_count": 12
        }
      ]
    },
    {
      "cell_type": "code",
      "source": [
        "opinion_lexicon.positive()"
      ],
      "metadata": {
        "colab": {
          "base_uri": "https://localhost:8080/"
        },
        "id": "SlHOMgNKB7KK",
        "outputId": "a721af5b-b700-4d09-f5d3-e93c6da00d07"
      },
      "execution_count": null,
      "outputs": [
        {
          "output_type": "execute_result",
          "data": {
            "text/plain": [
              "['a+', 'abound', 'abounds', 'abundance', 'abundant', ...]"
            ]
          },
          "metadata": {},
          "execution_count": 13
        }
      ]
    },
    {
      "cell_type": "code",
      "source": [
        "print(len(opinion_lexicon.positive()))\n",
        "print(len(opinion_lexicon.negative()))\n"
      ],
      "metadata": {
        "colab": {
          "base_uri": "https://localhost:8080/"
        },
        "id": "MuRiXATHB8x4",
        "outputId": "99052f16-9d04-4ff2-f071-f6965cef5ceb"
      },
      "execution_count": null,
      "outputs": [
        {
          "output_type": "stream",
          "name": "stdout",
          "text": [
            "2006\n",
            "4783\n"
          ]
        }
      ]
    },
    {
      "cell_type": "code",
      "source": [
        "print(type(len(opinion_lexicon.negative())))\n",
        "print(type(len(opinion_lexicon.positive())))"
      ],
      "metadata": {
        "colab": {
          "base_uri": "https://localhost:8080/"
        },
        "id": "Q9kVTeznCMch",
        "outputId": "26cabc8c-90dc-44a0-89b1-35415c304ff8"
      },
      "execution_count": null,
      "outputs": [
        {
          "output_type": "stream",
          "name": "stdout",
          "text": [
            "<class 'int'>\n",
            "<class 'int'>\n"
          ]
        }
      ]
    },
    {
      "cell_type": "code",
      "source": [
        "fig = plt.figure(figsize=(5, 5))\n",
        "labels = 'Positive', 'Negative'\n",
        "sizes = [len(opinion_lexicon.positive()),len(opinion_lexicon.negative())]\n",
        "plt.pie(sizes, labels=labels, autopct='%.2f%%',\n",
        "shadow=True, startangle=90)\n",
        "plt.axis('equal')\n",
        "plt.show()"
      ],
      "metadata": {
        "colab": {
          "base_uri": "https://localhost:8080/",
          "height": 303
        },
        "id": "OS0vZTGQCjdL",
        "outputId": "a105c72c-bb5f-486c-d79c-9bdc2f469503"
      },
      "execution_count": null,
      "outputs": [
        {
          "output_type": "display_data",
          "data": {
            "image/png": "[encoded data removed]",
            "text/plain": [
              "<Figure size 360x360 with 1 Axes>"
            ]
          },
          "metadata": {}
        }
      ]
    },
    {
      "cell_type": "code",
      "source": [
        "positive=opinion_lexicon.positive()\n",
        "negative=opinion_lexicon.negative()\n",
        "\n",
        "print('\\033[92m' + positive[random.randint(0,5000)])\n",
        "print('\\033[91m' + negative[random.randint(0,5000)])"
      ],
      "metadata": {
        "colab": {
          "base_uri": "https://localhost:8080/"
        },
        "id": "iddAuuhXDaJY",
        "outputId": "0c93a11c-ba50-421c-9fd1-573ba2a014af"
      },
      "execution_count": null,
      "outputs": [
        {
          "output_type": "stream",
          "name": "stdout",
          "text": [
            "\u001b[92mglitz\n",
            "\u001b[91mexorbitant\n"
          ]
        }
      ]
    },
    {
      "cell_type": "code",
      "source": [
        "print(positive[26])"
      ],
      "metadata": {
        "colab": {
          "base_uri": "https://localhost:8080/"
        },
        "id": "8hsIyhBjEH9f",
        "outputId": "62e07745-e872-4637-b45d-73389592603d"
      },
      "execution_count": null,
      "outputs": [
        {
          "output_type": "stream",
          "name": "stdout",
          "text": [
            "adaptive\n"
          ]
        }
      ]
    }
  ]
}