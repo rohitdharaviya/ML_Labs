{
  "nbformat": 4,
  "nbformat_minor": 0,
  "metadata": {
    "colab": {
      "name": "Lab1_ML_4.ipynb",
      "provenance": [],
      "collapsed_sections": []
    },
    "kernelspec": {
      "name": "python3",
      "display_name": "Python 3"
    },
    "language_info": {
      "name": "python"
    }
  },
  "cells": [
    {
      "cell_type": "code",
      "execution_count": 2,
      "metadata": {
        "id": "qkiLZUs3INpH"
      },
      "outputs": [],
      "source": [
        "import numpy as np\n",
        "\n",
        "import matplotlib as plt\n",
        "\n",
        "from sklearn import datasets\n",
        "\n",
        "from sklearn import metrics\n",
        "\n",
        "from sklearn.linear_model import LogisticRegression"
      ]
    },
    {
      "cell_type": "code",
      "source": [
        "boston= datasets.load_boston()"
      ],
      "metadata": {
        "colab": {
          "base_uri": "https://localhost:8080/"
        },
        "id": "GALQbey1LjFm",
        "outputId": "92aee8f8-3a4c-41a8-a81e-3be8c454a463"
      },
      "execution_count": 3,
      "outputs": [
        {
          "output_type": "stream",
          "name": "stderr",
          "text": [
            "/usr/local/lib/python3.7/dist-packages/sklearn/utils/deprecation.py:87: FutureWarning: Function load_boston is deprecated; `load_boston` is deprecated in 1.0 and will be removed in 1.2.\n",
            "\n",
            "    The Boston housing prices dataset has an ethical problem. You can refer to\n",
            "    the documentation of this function for further details.\n",
            "\n",
            "    The scikit-learn maintainers therefore strongly discourage the use of this\n",
            "    dataset unless the purpose of the code is to study and educate about\n",
            "    ethical issues in data science and machine learning.\n",
            "\n",
            "    In this special case, you can fetch the dataset from the original\n",
            "    source::\n",
            "\n",
            "        import pandas as pd\n",
            "        import numpy as np\n",
            "\n",
            "\n",
            "        data_url = \"http://lib.stat.cmu.edu/datasets/boston\"\n",
            "        raw_df = pd.read_csv(data_url, sep=\"\\s+\", skiprows=22, header=None)\n",
            "        data = np.hstack([raw_df.values[::2, :], raw_df.values[1::2, :2]])\n",
            "        target = raw_df.values[1::2, 2]\n",
            "\n",
            "    Alternative datasets include the California housing dataset (i.e.\n",
            "    :func:`~sklearn.datasets.fetch_california_housing`) and the Ames housing\n",
            "    dataset. You can load the datasets as follows::\n",
            "\n",
            "        from sklearn.datasets import fetch_california_housing\n",
            "        housing = fetch_california_housing()\n",
            "\n",
            "    for the California housing dataset and::\n",
            "\n",
            "        from sklearn.datasets import fetch_openml\n",
            "        housing = fetch_openml(name=\"house_prices\", as_frame=True)\n",
            "\n",
            "    for the Ames housing dataset.\n",
            "    \n",
            "  warnings.warn(msg, category=FutureWarning)\n"
          ]
        }
      ]
    },
    {
      "cell_type": "code",
      "source": [
        "X = boston.data\n",
        "y= boston.target\n",
        "feature_names = boston.feature_names\n",
        "print(\"Feature names:\", feature_names)\n",
        "\n",
        "print(\"\\nFirst 10 rows of X:\\n\", X[:10])"
      ],
      "metadata": {
        "colab": {
          "base_uri": "https://localhost:8080/"
        },
        "id": "zzBZs3IPLww1",
        "outputId": "c4527f79-6854-41d1-f6ce-af0ed3cba218"
      },
      "execution_count": 5,
      "outputs": [
        {
          "output_type": "stream",
          "name": "stdout",
          "text": [
            "Feature names: ['CRIM' 'ZN' 'INDUS' 'CHAS' 'NOX' 'RM' 'AGE' 'DIS' 'RAD' 'TAX' 'PTRATIO'\n",
            " 'B' 'LSTAT']\n",
            "\n",
            "First 10 rows of X:\n",
            " [[6.3200e-03 1.8000e+01 2.3100e+00 0.0000e+00 5.3800e-01 6.5750e+00\n",
            "  6.5200e+01 4.0900e+00 1.0000e+00 2.9600e+02 1.5300e+01 3.9690e+02\n",
            "  4.9800e+00]\n",
            " [2.7310e-02 0.0000e+00 7.0700e+00 0.0000e+00 4.6900e-01 6.4210e+00\n",
            "  7.8900e+01 4.9671e+00 2.0000e+00 2.4200e+02 1.7800e+01 3.9690e+02\n",
            "  9.1400e+00]\n",
            " [2.7290e-02 0.0000e+00 7.0700e+00 0.0000e+00 4.6900e-01 7.1850e+00\n",
            "  6.1100e+01 4.9671e+00 2.0000e+00 2.4200e+02 1.7800e+01 3.9283e+02\n",
            "  4.0300e+00]\n",
            " [3.2370e-02 0.0000e+00 2.1800e+00 0.0000e+00 4.5800e-01 6.9980e+00\n",
            "  4.5800e+01 6.0622e+00 3.0000e+00 2.2200e+02 1.8700e+01 3.9463e+02\n",
            "  2.9400e+00]\n",
            " [6.9050e-02 0.0000e+00 2.1800e+00 0.0000e+00 4.5800e-01 7.1470e+00\n",
            "  5.4200e+01 6.0622e+00 3.0000e+00 2.2200e+02 1.8700e+01 3.9690e+02\n",
            "  5.3300e+00]\n",
            " [2.9850e-02 0.0000e+00 2.1800e+00 0.0000e+00 4.5800e-01 6.4300e+00\n",
            "  5.8700e+01 6.0622e+00 3.0000e+00 2.2200e+02 1.8700e+01 3.9412e+02\n",
            "  5.2100e+00]\n",
            " [8.8290e-02 1.2500e+01 7.8700e+00 0.0000e+00 5.2400e-01 6.0120e+00\n",
            "  6.6600e+01 5.5605e+00 5.0000e+00 3.1100e+02 1.5200e+01 3.9560e+02\n",
            "  1.2430e+01]\n",
            " [1.4455e-01 1.2500e+01 7.8700e+00 0.0000e+00 5.2400e-01 6.1720e+00\n",
            "  9.6100e+01 5.9505e+00 5.0000e+00 3.1100e+02 1.5200e+01 3.9690e+02\n",
            "  1.9150e+01]\n",
            " [2.1124e-01 1.2500e+01 7.8700e+00 0.0000e+00 5.2400e-01 5.6310e+00\n",
            "  1.0000e+02 6.0821e+00 5.0000e+00 3.1100e+02 1.5200e+01 3.8663e+02\n",
            "  2.9930e+01]\n",
            " [1.7004e-01 1.2500e+01 7.8700e+00 0.0000e+00 5.2400e-01 6.0040e+00\n",
            "  8.5900e+01 6.5921e+00 5.0000e+00 3.1100e+02 1.5200e+01 3.8671e+02\n",
            "  1.7100e+01]]\n"
          ]
        }
      ]
    },
    {
      "cell_type": "code",
      "source": [
        "from sklearn.model_selection import train_test_split\n",
        "X_train, X_test, y_train, y_test = train_test_split(\n",
        "   X, y, test_size = 0.4, random_state=1\n",
        ")\n",
        "print(X_train)\n",
        "print(X_test)\n",
        "print(y_train)\n",
        "print(y_test)"
      ],
      "metadata": {
        "colab": {
          "base_uri": "https://localhost:8080/"
        },
        "id": "645QXSg_iABP",
        "outputId": "e68a79e3-5149-4437-d31b-eaf57143d897"
      },
      "execution_count": 10,
      "outputs": [
        {
          "output_type": "stream",
          "name": "stdout",
          "text": [
            "[[5.09017e+00 0.00000e+00 1.81000e+01 ... 2.02000e+01 3.85090e+02\n",
            "  1.72700e+01]\n",
            " [6.16200e-02 0.00000e+00 4.39000e+00 ... 1.88000e+01 3.64610e+02\n",
            "  1.26700e+01]\n",
            " [1.29320e-01 0.00000e+00 1.39200e+01 ... 1.60000e+01 3.96900e+02\n",
            "  6.27000e+00]\n",
            " ...\n",
            " [5.87205e+00 0.00000e+00 1.81000e+01 ... 2.02000e+01 3.96900e+02\n",
            "  1.93700e+01]\n",
            " [3.30450e-01 0.00000e+00 6.20000e+00 ... 1.74000e+01 3.76750e+02\n",
            "  1.08800e+01]\n",
            " [8.01400e-02 0.00000e+00 5.96000e+00 ... 1.92000e+01 3.96900e+02\n",
            "  8.77000e+00]]\n",
            "[[4.93200e-02 3.30000e+01 2.18000e+00 ... 1.84000e+01 3.96900e+02\n",
            "  7.53000e+00]\n",
            " [2.54300e-02 5.50000e+01 3.78000e+00 ... 1.76000e+01 3.96900e+02\n",
            "  7.18000e+00]\n",
            " [2.29270e-01 0.00000e+00 6.91000e+00 ... 1.79000e+01 3.92740e+02\n",
            "  1.88000e+01]\n",
            " ...\n",
            " [5.66637e+00 0.00000e+00 1.81000e+01 ... 2.02000e+01 3.95690e+02\n",
            "  1.65900e+01]\n",
            " [1.88110e+01 0.00000e+00 1.81000e+01 ... 2.02000e+01 2.87900e+01\n",
            "  3.43700e+01]\n",
            " [1.40520e-01 0.00000e+00 1.05900e+01 ... 1.86000e+01 3.85810e+02\n",
            "  9.38000e+00]]\n",
            "[16.1 17.2 28.6 23.6 20.4 19.6 18.8 22.6 17.7 30.5 18.2 20.6 24.4 17.3\n",
            " 13.3 22.8 20.5 21.2 18.8 18.9 18.2 23.1 32.7 24.  10.2 19.5 33.1 13.4\n",
            " 15.2 24.8 24.3  9.5 24.2 18.5 44.  50.  24.7 21.5  8.4 21.8 50.  23.8\n",
            " 32.4 24.4 17.6 29.8  9.6 16.7 13.8 32.  16.1  8.3 26.6 14.3 15.  28.4\n",
            " 32.2 17.1 29.4 10.4 16.8 31.5 27.5 46.7 27.5 17.2 23.4 31.6 13.8 22.\n",
            " 17.  24.8 24.3 25.2 21.2 20.6 18.7  5.6 19.3 19.8 22.3 20.3 12.  23.9\n",
            " 16.5 13.2 33.2 10.5  7.5 27.5 18.4 23.2 13.8 35.4 23.  25.   7.2 14.4\n",
            "  8.8 22.7 13.1 18.9 25.   8.5 16.1 29.  23.1 19.3 33.1 24.6 23.  15.2\n",
            " 27.1 19.6 24.5 20.3 34.9 17.1 15.6 26.4 22.6 15.6 29.  21.2 22.4 13.5\n",
            " 11.7 17.1 31.7 28.7 24.7 19.   7.2 13.8 12.8 36.2 38.7 18.5 29.1 20.4\n",
            " 11.3 17.4  8.7 18.9 23.2 22.2 29.1 34.6 25.  23.2 37.9  7.  18.2 19.3\n",
            " 26.7 19.2 30.1 20.6 50.  18.7 20.6 31.1 14.  17.8 42.3 15.3 18.5 21.4\n",
            " 15.  20.7 21.4 21.7 22.  31.6 22.  10.2 22.6 20.  17.8 13.6 11.8 19.4\n",
            " 21.4 32.9 20.8 31.  17.5 15.4 10.8 34.7 25.  48.8 42.8 19.5 30.1 22.2\n",
            " 50.  23.1 32.5 19.6 14.9 26.4 37.  24.1 24.5 23.7  7.  22.2 23.3 15.6\n",
            " 13.4 30.7 22.3 17.4 50.  22.9 19.7 15.6 17.8 10.9 35.1 15.7 50.  22.8\n",
            " 19.9 20.1 19.4 46.  23.2 37.6 23.1 13.9 33.3 33.  19.9 20.3 50.  19.4\n",
            " 19.5 22.8 16.6 20.  24.7 45.4 33.4 21.4 19.4  5.   7.4 20.1 12.7 20.3\n",
            " 14.1 18.3 19.9 23.3 36.5 20.  17.8  8.8 21.6 21.6 15.2 19.8 21.  27.1\n",
            " 16.8 14.4 22.5 18.6 20.1 19.6 25.  17.4 19.7  5.  16.3 13.1 29.6 13.1\n",
            " 19.1 12.1 21.7 21.9 33.2 29.9 35.4 15.1 31.5 21.7 16.4 14.3 11.8 14.1\n",
            " 21.1 18.4 48.5 13.8 20.9 22.8 12.5 24.  21. ]\n",
            "[28.2 23.9 16.6 22.  20.8 23.  27.9 14.5 21.5 22.6 23.7 31.2 19.3 19.4\n",
            " 19.4 27.9 13.9 50.  24.1 14.6 16.2 15.6 23.8 25.  23.5  8.3 13.5 17.5\n",
            " 43.1 11.5 24.1 18.5 50.  12.6 19.8 24.5 14.9 36.2 11.9 19.1 22.6 20.7\n",
            " 30.1 13.3 14.6  8.4 50.  12.7 25.  18.6 29.8 22.2 28.7 23.8  8.1 22.2\n",
            "  6.3 22.1 17.5 48.3 16.7 26.6  8.5 14.5 23.7 37.2 41.7 16.5 21.7 22.7\n",
            " 23.  10.5 21.9 21.  20.4 21.8 50.  22.  23.3 37.3 18.  19.2 34.9 13.4\n",
            " 22.9 22.5 13.  24.6 18.3 18.1 23.9 50.  13.6 22.9 10.9 18.9 22.4 22.9\n",
            " 44.8 21.7 10.2 15.4 25.3 23.3  7.2 21.2 11.7 27.  29.6 26.5 43.5 23.6\n",
            " 11.  33.4 36.  36.4 19.  20.2 34.9 50.  19.3 14.9 26.6 19.9 24.8 21.2\n",
            " 23.9 20.6 23.1 28.  20.  23.1 25.   9.7 23.9 36.1 13.4 12.7 39.8 10.4\n",
            " 20.6 17.8 19.5 23.7 28.5 24.3 23.8 19.1 28.4 20.5 33.8 14.5 20.4 16.\n",
            " 13.3 30.8 27.5 24.4 24.4 25.1 43.8 21.9 26.2 14.2 20.8 20.1 23.1 13.1\n",
            " 16.2 24.8 20.2 22.5 14.8 28.7 20.1 23.4 32.  19.1 50.  20.9 21.7 22.\n",
            " 17.2 30.3 12.3 21.4 20.5 35.2 19.6 22.  21.7 14.1 21.1 15.  11.9 20.\n",
            " 41.3 18.7 50.  50.  18.4 17.9 28.1]\n"
          ]
        }
      ]
    }
  ]
}